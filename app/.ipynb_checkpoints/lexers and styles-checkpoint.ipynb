{
 "cells": [
  {
   "cell_type": "code",
   "execution_count": 1,
   "metadata": {},
   "outputs": [],
   "source": [
    "from pygments.lexers import get_all_lexers\n",
    "from pygments.styles import get_all_styles"
   ]
  },
  {
   "cell_type": "code",
   "execution_count": 8,
   "metadata": {},
   "outputs": [],
   "source": [
    "LEXERS = []\n",
    "for item in get_all_lexers():\n",
    "    if item[1]:\n",
    "        LEXERS.append(item)\n",
    "# LEXERS"
   ]
  },
  {
   "cell_type": "code",
   "execution_count": 9,
   "metadata": {},
   "outputs": [],
   "source": [
    "LANGUAGE_CHOICES=[]\n",
    "for item in LEXERS:\n",
    "    cur_tuple = (item[1][0], item[0])\n",
    "    LANGUAGE_CHOICES.append(cur_tuple)\n",
    "LANGUAGE_CHOICES.sort()\n",
    "# LANGUAGE_CHOICES"
   ]
  },
  {
   "cell_type": "code",
   "execution_count": null,
   "metadata": {},
   "outputs": [],
   "source": [
    "STYLE_CHOICES=[]\n",
    "for item in get_all_styles():\n",
    "    cur_tuple=(item,item)\n",
    "    STYLE_CHOICES.append(cur_tuple)"
   ]
  }
 ],
 "metadata": {
  "kernelspec": {
   "display_name": "Django Shell-Plus",
   "language": "python",
   "name": "django_extensions"
  },
  "language_info": {
   "codemirror_mode": {
    "name": "ipython",
    "version": 3
   },
   "file_extension": ".py",
   "mimetype": "text/x-python",
   "name": "python",
   "nbconvert_exporter": "python",
   "pygments_lexer": "ipython3",
   "version": "3.7.5"
  }
 },
 "nbformat": 4,
 "nbformat_minor": 4
}
